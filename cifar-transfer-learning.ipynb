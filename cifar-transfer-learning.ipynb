{
 "cells": [
  {
   "cell_type": "code",
   "execution_count": 1,
   "metadata": {
    "_cell_guid": "b1076dfc-b9ad-4769-8c92-a6c4dae69d19",
    "_uuid": "8f2839f25d086af736a60e9eeb907d3b93b6e0e5",
    "execution": {
     "iopub.execute_input": "2022-06-22T10:02:11.120557Z",
     "iopub.status.busy": "2022-06-22T10:02:11.119819Z",
     "iopub.status.idle": "2022-06-22T10:02:13.206772Z",
     "shell.execute_reply": "2022-06-22T10:02:13.205604Z",
     "shell.execute_reply.started": "2022-06-22T10:02:11.120465Z"
    }
   },
   "outputs": [],
   "source": [
    "import keras\n",
    "import numpy as np\n",
    "import matplotlib.pyplot as plt\n",
    "from tensorflow.keras.datasets import cifar10\n",
    "import seaborn as sns\n",
    "from sklearn.model_selection import train_test_split\n"
   ]
  },
  {
   "cell_type": "code",
   "execution_count": 2,
   "metadata": {
    "execution": {
     "iopub.execute_input": "2022-06-22T10:02:13.214031Z",
     "iopub.status.busy": "2022-06-22T10:02:13.213375Z",
     "iopub.status.idle": "2022-06-22T10:02:14.017098Z",
     "shell.execute_reply": "2022-06-22T10:02:14.016079Z",
     "shell.execute_reply.started": "2022-06-22T10:02:13.213994Z"
    }
   },
   "outputs": [],
   "source": [
    "(train_data,train_labels),(test_data,test_labels)=cifar10.load_data()"
   ]
  },
  {
   "cell_type": "code",
   "execution_count": 3,
   "metadata": {
    "execution": {
     "iopub.execute_input": "2022-06-22T10:02:14.018842Z",
     "iopub.status.busy": "2022-06-22T10:02:14.018469Z",
     "iopub.status.idle": "2022-06-22T10:02:14.076391Z",
     "shell.execute_reply": "2022-06-22T10:02:14.075395Z",
     "shell.execute_reply.started": "2022-06-22T10:02:14.018808Z"
    }
   },
   "outputs": [],
   "source": [
    "train_data,val_data,train_labels,val_labels=train_test_split(train_data,train_labels\n",
    "                                                             ,test_size=0.1,random_state=42)"
   ]
  },
  {
   "cell_type": "code",
   "execution_count": 4,
   "metadata": {
    "execution": {
     "iopub.execute_input": "2022-06-22T10:02:14.080289Z",
     "iopub.status.busy": "2022-06-22T10:02:14.079895Z",
     "iopub.status.idle": "2022-06-22T10:02:14.085848Z",
     "shell.execute_reply": "2022-06-22T10:02:14.084743Z",
     "shell.execute_reply.started": "2022-06-22T10:02:14.080250Z"
    }
   },
   "outputs": [
    {
     "name": "stdout",
     "output_type": "stream",
     "text": [
      "shape of train is (45000, 32, 32, 3)\n",
      "shape of val is (5000, 32, 32, 3)\n",
      "shape of test is (10000, 32, 32, 3)\n"
     ]
    }
   ],
   "source": [
    "print(\"shape of train is {}\".format(train_data.shape))\n",
    "print(\"shape of val is {}\".format(val_data.shape))\n",
    "print(\"shape of test is {}\".format(test_data.shape))"
   ]
  },
  {
   "cell_type": "code",
   "execution_count": 5,
   "metadata": {
    "execution": {
     "iopub.execute_input": "2022-06-22T10:02:14.088245Z",
     "iopub.status.busy": "2022-06-22T10:02:14.087616Z",
     "iopub.status.idle": "2022-06-22T10:02:14.097669Z",
     "shell.execute_reply": "2022-06-22T10:02:14.096558Z",
     "shell.execute_reply.started": "2022-06-22T10:02:14.088209Z"
    }
   },
   "outputs": [],
   "source": [
    "from tensorflow.keras.utils import to_categorical\n",
    "train_labels=to_categorical(train_labels)\n",
    "test_labels=to_categorical(test_labels)\n",
    "val_labels=to_categorical(val_labels)"
   ]
  },
  {
   "cell_type": "code",
   "execution_count": 6,
   "metadata": {
    "execution": {
     "iopub.execute_input": "2022-06-22T10:02:14.099975Z",
     "iopub.status.busy": "2022-06-22T10:02:14.099303Z",
     "iopub.status.idle": "2022-06-22T10:02:16.914600Z",
     "shell.execute_reply": "2022-06-22T10:02:16.913580Z",
     "shell.execute_reply.started": "2022-06-22T10:02:14.099937Z"
    }
   },
   "outputs": [
    {
     "name": "stdout",
     "output_type": "stream",
     "text": [
      "Downloading data from https://storage.googleapis.com/tensorflow/keras-applications/vgg16/vgg16_weights_tf_dim_ordering_tf_kernels.h5\n",
      "553467096/553467096 [==============================] - 245s 0us/step\n"
     ]
    }
   ],
   "source": [
    "from tensorflow.keras.applications.vgg16 import VGG16\n",
    "model_vgg2=VGG16()"
   ]
  },
  {
   "cell_type": "code",
   "execution_count": 7,
   "metadata": {
    "execution": {
     "iopub.execute_input": "2022-06-22T10:02:16.916603Z",
     "iopub.status.busy": "2022-06-22T10:02:16.916199Z",
     "iopub.status.idle": "2022-06-22T10:02:16.926443Z",
     "shell.execute_reply": "2022-06-22T10:02:16.925243Z",
     "shell.execute_reply.started": "2022-06-22T10:02:16.916557Z"
    }
   },
   "outputs": [
    {
     "name": "stdout",
     "output_type": "stream",
     "text": [
      "Model: \"vgg16\"\n",
      "_________________________________________________________________\n",
      " Layer (type)                Output Shape              Param #   \n",
      "=================================================================\n",
      " input_1 (InputLayer)        [(None, 224, 224, 3)]     0         \n",
      "                                                                 \n",
      " block1_conv1 (Conv2D)       (None, 224, 224, 64)      1792      \n",
      "                                                                 \n",
      " block1_conv2 (Conv2D)       (None, 224, 224, 64)      36928     \n",
      "                                                                 \n",
      " block1_pool (MaxPooling2D)  (None, 112, 112, 64)      0         \n",
      "                                                                 \n",
      " block2_conv1 (Conv2D)       (None, 112, 112, 128)     73856     \n",
      "                                                                 \n",
      " block2_conv2 (Conv2D)       (None, 112, 112, 128)     147584    \n",
      "                                                                 \n",
      " block2_pool (MaxPooling2D)  (None, 56, 56, 128)       0         \n",
      "                                                                 \n",
      " block3_conv1 (Conv2D)       (None, 56, 56, 256)       295168    \n",
      "                                                                 \n",
      " block3_conv2 (Conv2D)       (None, 56, 56, 256)       590080    \n",
      "                                                                 \n",
      " block3_conv3 (Conv2D)       (None, 56, 56, 256)       590080    \n",
      "                                                                 \n",
      " block3_pool (MaxPooling2D)  (None, 28, 28, 256)       0         \n",
      "                                                                 \n",
      " block4_conv1 (Conv2D)       (None, 28, 28, 512)       1180160   \n",
      "                                                                 \n",
      " block4_conv2 (Conv2D)       (None, 28, 28, 512)       2359808   \n",
      "                                                                 \n",
      " block4_conv3 (Conv2D)       (None, 28, 28, 512)       2359808   \n",
      "                                                                 \n",
      " block4_pool (MaxPooling2D)  (None, 14, 14, 512)       0         \n",
      "                                                                 \n",
      " block5_conv1 (Conv2D)       (None, 14, 14, 512)       2359808   \n",
      "                                                                 \n",
      " block5_conv2 (Conv2D)       (None, 14, 14, 512)       2359808   \n",
      "                                                                 \n",
      " block5_conv3 (Conv2D)       (None, 14, 14, 512)       2359808   \n",
      "                                                                 \n",
      " block5_pool (MaxPooling2D)  (None, 7, 7, 512)         0         \n",
      "                                                                 \n",
      " flatten (Flatten)           (None, 25088)             0         \n",
      "                                                                 \n",
      " fc1 (Dense)                 (None, 4096)              102764544 \n",
      "                                                                 \n",
      " fc2 (Dense)                 (None, 4096)              16781312  \n",
      "                                                                 \n",
      " predictions (Dense)         (None, 1000)              4097000   \n",
      "                                                                 \n",
      "=================================================================\n",
      "Total params: 138,357,544\n",
      "Trainable params: 138,357,544\n",
      "Non-trainable params: 0\n",
      "_________________________________________________________________\n"
     ]
    }
   ],
   "source": [
    "model_vgg2.summary()"
   ]
  },
  {
   "cell_type": "code",
   "execution_count": 8,
   "metadata": {
    "execution": {
     "iopub.execute_input": "2022-06-22T10:02:16.929050Z",
     "iopub.status.busy": "2022-06-22T10:02:16.928046Z",
     "iopub.status.idle": "2022-06-22T10:02:17.256476Z",
     "shell.execute_reply": "2022-06-22T10:02:17.255247Z",
     "shell.execute_reply.started": "2022-06-22T10:02:16.929011Z"
    }
   },
   "outputs": [],
   "source": [
    "model_vgg16_v2=VGG16(weights='imagenet',include_top=False,input_shape=(32,32,3))"
   ]
  },
  {
   "cell_type": "code",
   "execution_count": 9,
   "metadata": {
    "execution": {
     "iopub.execute_input": "2022-06-22T10:02:17.261808Z",
     "iopub.status.busy": "2022-06-22T10:02:17.261279Z",
     "iopub.status.idle": "2022-06-22T10:02:17.281910Z",
     "shell.execute_reply": "2022-06-22T10:02:17.275307Z",
     "shell.execute_reply.started": "2022-06-22T10:02:17.261740Z"
    }
   },
   "outputs": [
    {
     "name": "stdout",
     "output_type": "stream",
     "text": [
      "Model: \"vgg16\"\n",
      "_________________________________________________________________\n",
      " Layer (type)                Output Shape              Param #   \n",
      "=================================================================\n",
      " input_2 (InputLayer)        [(None, 32, 32, 3)]       0         \n",
      "                                                                 \n",
      " block1_conv1 (Conv2D)       (None, 32, 32, 64)        1792      \n",
      "                                                                 \n",
      " block1_conv2 (Conv2D)       (None, 32, 32, 64)        36928     \n",
      "                                                                 \n",
      " block1_pool (MaxPooling2D)  (None, 16, 16, 64)        0         \n",
      "                                                                 \n",
      " block2_conv1 (Conv2D)       (None, 16, 16, 128)       73856     \n",
      "                                                                 \n",
      " block2_conv2 (Conv2D)       (None, 16, 16, 128)       147584    \n",
      "                                                                 \n",
      " block2_pool (MaxPooling2D)  (None, 8, 8, 128)         0         \n",
      "                                                                 \n",
      " block3_conv1 (Conv2D)       (None, 8, 8, 256)         295168    \n",
      "                                                                 \n",
      " block3_conv2 (Conv2D)       (None, 8, 8, 256)         590080    \n",
      "                                                                 \n",
      " block3_conv3 (Conv2D)       (None, 8, 8, 256)         590080    \n",
      "                                                                 \n",
      " block3_pool (MaxPooling2D)  (None, 4, 4, 256)         0         \n",
      "                                                                 \n",
      " block4_conv1 (Conv2D)       (None, 4, 4, 512)         1180160   \n",
      "                                                                 \n",
      " block4_conv2 (Conv2D)       (None, 4, 4, 512)         2359808   \n",
      "                                                                 \n",
      " block4_conv3 (Conv2D)       (None, 4, 4, 512)         2359808   \n",
      "                                                                 \n",
      " block4_pool (MaxPooling2D)  (None, 2, 2, 512)         0         \n",
      "                                                                 \n",
      " block5_conv1 (Conv2D)       (None, 2, 2, 512)         2359808   \n",
      "                                                                 \n",
      " block5_conv2 (Conv2D)       (None, 2, 2, 512)         2359808   \n",
      "                                                                 \n",
      " block5_conv3 (Conv2D)       (None, 2, 2, 512)         2359808   \n",
      "                                                                 \n",
      " block5_pool (MaxPooling2D)  (None, 1, 1, 512)         0         \n",
      "                                                                 \n",
      "=================================================================\n",
      "Total params: 14,714,688\n",
      "Trainable params: 14,714,688\n",
      "Non-trainable params: 0\n",
      "_________________________________________________________________\n"
     ]
    }
   ],
   "source": [
    "model_vgg16_v2.summary()"
   ]
  },
  {
   "cell_type": "code",
   "execution_count": 12,
   "metadata": {
    "execution": {
     "iopub.execute_input": "2022-06-22T10:02:17.287205Z",
     "iopub.status.busy": "2022-06-22T10:02:17.286329Z",
     "iopub.status.idle": "2022-06-22T10:02:17.390512Z",
     "shell.execute_reply": "2022-06-22T10:02:17.389462Z",
     "shell.execute_reply.started": "2022-06-22T10:02:17.287167Z"
    }
   },
   "outputs": [],
   "source": [
    "from keras import models\n",
    "from keras import layers\n",
    "from tensorflow.keras.optimizers import RMSprop,Adam\n",
    "model5 = models.Sequential()\n",
    "model5.add(model_vgg16_v2)\n",
    "model5.add(layers.Flatten())\n",
    "model5.add(layers.Dense(128, activation='relu'))\n",
    "model5.add(layers.Dense(128, activation='relu'))\n",
    "model5.add(layers.Dense(10, activation='softmax'))"
   ]
  },
  {
   "cell_type": "code",
   "execution_count": 13,
   "metadata": {
    "execution": {
     "iopub.execute_input": "2022-06-22T10:02:17.392281Z",
     "iopub.status.busy": "2022-06-22T10:02:17.391952Z",
     "iopub.status.idle": "2022-06-22T10:02:17.399600Z",
     "shell.execute_reply": "2022-06-22T10:02:17.397835Z",
     "shell.execute_reply.started": "2022-06-22T10:02:17.392245Z"
    }
   },
   "outputs": [],
   "source": [
    "model_vgg16_v2.trainable=False"
   ]
  },
  {
   "cell_type": "code",
   "execution_count": 14,
   "metadata": {},
   "outputs": [
    {
     "name": "stdout",
     "output_type": "stream",
     "text": [
      "Model: \"sequential\"\n",
      "_________________________________________________________________\n",
      " Layer (type)                Output Shape              Param #   \n",
      "=================================================================\n",
      " vgg16 (Functional)          (None, 1, 1, 512)         14714688  \n",
      "                                                                 \n",
      " flatten (Flatten)           (None, 512)               0         \n",
      "                                                                 \n",
      " dense (Dense)               (None, 128)               65664     \n",
      "                                                                 \n",
      " dense_1 (Dense)             (None, 128)               16512     \n",
      "                                                                 \n",
      " dense_2 (Dense)             (None, 10)                1290      \n",
      "                                                                 \n",
      "=================================================================\n",
      "Total params: 14,798,154\n",
      "Trainable params: 83,466\n",
      "Non-trainable params: 14,714,688\n",
      "_________________________________________________________________\n"
     ]
    }
   ],
   "source": [
    "model5.summary()"
   ]
  },
  {
   "cell_type": "code",
   "execution_count": 12,
   "metadata": {
    "execution": {
     "iopub.execute_input": "2022-06-22T10:02:17.402117Z",
     "iopub.status.busy": "2022-06-22T10:02:17.401753Z",
     "iopub.status.idle": "2022-06-22T10:07:11.797816Z",
     "shell.execute_reply": "2022-06-22T10:07:11.796580Z",
     "shell.execute_reply.started": "2022-06-22T10:02:17.402081Z"
    }
   },
   "outputs": [],
   "source": [
    "from keras.preprocessing.image import ImageDataGenerator\n",
    "from keras.applications.imagenet_utils import preprocess_input\n",
    "\n",
    "train_datagen = ImageDataGenerator(\n",
    "      preprocessing_function=preprocess_input,\n",
    "      rotation_range=40,\n",
    "      shear_range=0.2,\n",
    "      zoom_range=0.2,\n",
    "      horizontal_flip=True,\n",
    "      fill_mode='nearest')\n",
    "\n",
    "\n",
    "test_datagen = ImageDataGenerator(preprocessing_function=preprocess_input)\n",
    "\n",
    "train_generator = train_datagen.flow(\n",
    "        train_data,train_labels,\n",
    "        batch_size=45)\n",
    "\n",
    "validation_generator = test_datagen.flow(\n",
    "        val_data,val_labels,\n",
    "        batch_size=40)\n",
    "\n",
    "model5.compile(loss='categorical_crossentropy',\n",
    "              optimizer=Adam(lr=0.005),\n",
    "              metrics=['acc'])\n",
    "\n",
    "history = model5.fit(\n",
    "      train_generator,\n",
    "      steps_per_epoch=1000,\n",
    "      epochs=10,validation_data=validation_generator\n",
    "\n",
    "      )"
   ]
  },
  {
   "cell_type": "code",
   "execution_count": 20,
   "metadata": {
    "execution": {
     "iopub.execute_input": "2022-06-22T10:07:19.134997Z",
     "iopub.status.busy": "2022-06-22T10:07:19.134288Z",
     "iopub.status.idle": "2022-06-22T10:07:19.142944Z",
     "shell.execute_reply": "2022-06-22T10:07:19.141823Z",
     "shell.execute_reply.started": "2022-06-22T10:07:19.134956Z"
    }
   },
   "outputs": [],
   "source": [
    "model5.trainable = True\n",
    "\n",
    "set_trainable = False\n",
    "for layer in model_vgg16_v2.layers:\n",
    "    if layer.name == 'block5_conv1':\n",
    "        set_trainable = True\n",
    "    if set_trainable:\n",
    "        layer.trainable = True\n",
    "    else:\n",
    "        layer.trainable = False"
   ]
  },
  {
   "cell_type": "code",
   "execution_count": 21,
   "metadata": {
    "execution": {
     "iopub.execute_input": "2022-06-22T10:07:25.308183Z",
     "iopub.status.busy": "2022-06-22T10:07:25.307586Z",
     "iopub.status.idle": "2022-06-22T10:07:25.322555Z",
     "shell.execute_reply": "2022-06-22T10:07:25.321462Z",
     "shell.execute_reply.started": "2022-06-22T10:07:25.308142Z"
    }
   },
   "outputs": [
    {
     "name": "stdout",
     "output_type": "stream",
     "text": [
      "Model: \"sequential\"\n",
      "_________________________________________________________________\n",
      " Layer (type)                Output Shape              Param #   \n",
      "=================================================================\n",
      " vgg16 (Functional)          (None, 1, 1, 512)         14714688  \n",
      "                                                                 \n",
      " flatten (Flatten)           (None, 512)               0         \n",
      "                                                                 \n",
      " dense (Dense)               (None, 128)               65664     \n",
      "                                                                 \n",
      " dense_1 (Dense)             (None, 128)               16512     \n",
      "                                                                 \n",
      " dense_2 (Dense)             (None, 10)                1290      \n",
      "                                                                 \n",
      "=================================================================\n",
      "Total params: 14,798,154\n",
      "Trainable params: 7,162,890\n",
      "Non-trainable params: 7,635,264\n",
      "_________________________________________________________________\n"
     ]
    }
   ],
   "source": [
    "model5.summary()"
   ]
  },
  {
   "cell_type": "code",
   "execution_count": null,
   "metadata": {},
   "outputs": [],
   "source": [
    "from keras.preprocessing.image import ImageDataGenerator\n",
    "from keras.applications.imagenet_utils import preprocess_input\n",
    "\n",
    "train_datagen = ImageDataGenerator(\n",
    "      preprocessing_function=preprocess_input,\n",
    "      rotation_range=40,\n",
    "      shear_range=0.2,\n",
    "      zoom_range=0.2,\n",
    "      horizontal_flip=True,\n",
    "      fill_mode='nearest')\n",
    "\n",
    "\n",
    "test_datagen = ImageDataGenerator(preprocessing_function=preprocess_input)\n",
    "\n",
    "train_generator = train_datagen.flow(\n",
    "        train_data,train_labels,\n",
    "        batch_size=45)\n",
    "\n",
    "validation_generator = test_datagen.flow(\n",
    "        val_data,val_labels,\n",
    "        batch_size=40)\n",
    "\n",
    "model5.compile(loss='categorical_crossentropy',\n",
    "              optimizer=Adam(lr=0.005),\n",
    "              metrics=['acc'])\n",
    "\n",
    "history = model5.fit(\n",
    "      train_generator,\n",
    "      steps_per_epoch=1000,\n",
    "      epochs=30,validation_data=validation_generator\n",
    "\n",
    "      )"
   ]
  },
  {
   "cell_type": "code",
   "execution_count": null,
   "metadata": {},
   "outputs": [],
   "source": []
  }
 ],
 "metadata": {
  "kernelspec": {
   "display_name": "Python 3 (ipykernel)",
   "language": "python",
   "name": "python3"
  },
  "language_info": {
   "codemirror_mode": {
    "name": "ipython",
    "version": 3
   },
   "file_extension": ".py",
   "mimetype": "text/x-python",
   "name": "python",
   "nbconvert_exporter": "python",
   "pygments_lexer": "ipython3",
   "version": "3.10.1"
  }
 },
 "nbformat": 4,
 "nbformat_minor": 4
}
